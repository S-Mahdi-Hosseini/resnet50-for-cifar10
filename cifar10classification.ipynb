{
  "nbformat": 4,
  "nbformat_minor": 0,
  "metadata": {
    "colab": {
      "name": "cifar10classification",
      "provenance": []
    },
    "kernelspec": {
      "name": "python3",
      "display_name": "Python 3"
    },
    "accelerator": "GPU"
  },
  "cells": [
    {
      "cell_type": "code",
      "metadata": {
        "id": "2tAM-cuTWHaJ",
        "colab_type": "code",
        "colab": {}
      },
      "source": [
        "%matplotlib inline\n",
        "%reload_ext autoreload\n",
        "%autoreload 2\n",
        "\n",
        "import os\n",
        "import numpy as np\n",
        "import matplotlib.pyplot as plt\n",
        "import glob\n",
        "from tqdm import tqdm\n",
        "from sklearn.metrics import confusion_matrix\n",
        "\n",
        "import torch \n",
        "import torch.nn as nn\n",
        "import torch.optim as optim\n",
        "from torch.utils.data import DataLoader as DataLoader\n",
        "\n",
        "import torchvision\n",
        "import torchvision.datasets as datasets\n",
        "import torchvision.transforms as transforms\n",
        "from torchvision.utils import make_grid\n",
        "\n",
        "import image_show\n",
        "from model_utils import *\n",
        "from utils import *\n",
        "from data_utils import create_validation_data\n",
        "\n",
        "use_gpu = torch.cuda.is_available()\n",
        "batch_size = 32\n",
        "sz = 197\n",
        "num_epoch = 6"
      ],
      "execution_count": 34,
      "outputs": []
    },
    {
      "cell_type": "code",
      "metadata": {
        "id": "6IOCKMt6WlPQ",
        "colab_type": "code",
        "colab": {}
      },
      "source": [
        "use_gpu = torch.cuda.is_available()"
      ],
      "execution_count": 6,
      "outputs": []
    },
    {
      "cell_type": "code",
      "metadata": {
        "id": "ux7lLSjBWz-P",
        "colab_type": "code",
        "colab": {}
      },
      "source": [
        "Data_dir = \"cifar_dataset\"\n",
        "train_dir = f'{Data_dir}/train' \n",
        "test_dir = f'{Data_dir}/test'"
      ],
      "execution_count": 7,
      "outputs": []
    },
    {
      "cell_type": "code",
      "metadata": {
        "id": "gdtfP11iXDOC",
        "colab_type": "code",
        "colab": {}
      },
      "source": [
        "train_data = glob.glob(f'{train_dir}/*/*.png')\n",
        "valid_data = glob.glob(f'{test_dir}/*/*.png')"
      ],
      "execution_count": null,
      "outputs": []
    },
    {
      "cell_type": "code",
      "metadata": {
        "id": "5jgEV07wXRUN",
        "colab_type": "code",
        "colab": {}
      },
      "source": [
        "trfm = transforms.Compose([\n",
        "    transforms.Resize((sz,sz)),   # PIL image object\n",
        "    transforms.ToTensor(),        # Tensor\n",
        "    transforms.Normalize([0.4913997551666284, 0.48215855929893703, 0.446530913373161],[0.24703225141799082, 0.24348516474564, 0.26158783926049628])\n",
        "    ])"
      ],
      "execution_count": 8,
      "outputs": []
    },
    {
      "cell_type": "code",
      "metadata": {
        "id": "sr2EfGC6XTzx",
        "colab_type": "code",
        "colab": {}
      },
      "source": [
        "train_ds = datasets.ImageFolder(train_dir , transform = trfm)\n",
        "test_ds = datasets.ImageFolder(test_dir , transform = trfm)"
      ],
      "execution_count": 23,
      "outputs": []
    },
    {
      "cell_type": "code",
      "metadata": {
        "id": "Ed0KMVA56PKY",
        "colab_type": "code",
        "colab": {}
      },
      "source": [
        "train_dl = DataLoader(train_ds , batch_size = batch_size ,\n",
        "                      shuffle = True , num_workers = 8)\n",
        "test_dl = DataLoader(test_ds , batch_size = batch_size ,\n",
        "                      shuffle = True , num_workers = 8)"
      ],
      "execution_count": 25,
      "outputs": []
    },
    {
      "cell_type": "code",
      "metadata": {
        "id": "IIrVv2VTXzkp",
        "colab_type": "code",
        "colab": {}
      },
      "source": [
        "pretrained_model = models.resnet50(pretrained=False)"
      ],
      "execution_count": 11,
      "outputs": []
    },
    {
      "cell_type": "code",
      "metadata": {
        "id": "FDsN079BxRxs",
        "colab_type": "code",
        "colab": {}
      },
      "source": [
        "num_ftrs = pretrained_model.fc.in_features\n",
        "pretrained_model.fc = nn.Linear(num_ftrs, 10)"
      ],
      "execution_count": 12,
      "outputs": []
    },
    {
      "cell_type": "code",
      "metadata": {
        "id": "hoDLwEnC5OT0",
        "colab_type": "code",
        "colab": {}
      },
      "source": [
        "if use_gpu is True :\n",
        "  pretrained_model = pretrained_model.cuda()"
      ],
      "execution_count": 14,
      "outputs": []
    },
    {
      "cell_type": "code",
      "metadata": {
        "id": "tb5qwwLhX3KF",
        "colab_type": "code",
        "colab": {}
      },
      "source": [
        "criterion = nn.CrossEntropyLoss()\n",
        "optimizer = optim.SGD(pretrained_model.parameters() , lr = 0.002 , momentum = 0.9)\n",
        "schedular = optim.lr_scheduler.StepLR(optimizer , step_size = 1 , gamma = 0.95)"
      ],
      "execution_count": 15,
      "outputs": []
    },
    {
      "cell_type": "code",
      "metadata": {
        "id": "Wt-PlZ40YBAM",
        "colab_type": "code",
        "colab": {}
      },
      "source": [
        "losses = []\n",
        "\n",
        "pretrained_model.train(True)\n",
        "\n",
        "for epoch in range(num_epoch):\n",
        "  schedular.step()\n",
        "\n",
        "  for i,(input_img , labels) in enumerate(train_dl):\n",
        "    \n",
        "    input_img = to_var(input_img)\n",
        "    labels = to_var(labels)\n",
        "        \n",
        "    # forward pass    computational graph for forward path is generated in this step and is an attribute of object \"output\"\n",
        "    optimizer.zero_grad()\n",
        "    output = pretrained_model(input_img)\n",
        "        \n",
        "    # loss\n",
        "    loss = criterion(output , labels)  #computational graph will be completed in this step and will be transfered to next part as an attribute of object \"loss\" \n",
        "    losses.append(loss.data)\n",
        "        \n",
        "    # backward pass   This step will do backpropagation and result gradients\n",
        "    loss.backward()\n",
        "        \n",
        "    # update weights\n",
        "    optimizer.step()\n",
        "        \n",
        "    #report \n",
        "    print('epoch [%2d/%2d]  , step [%3d/%3d] , loss: %.4f'\n",
        "          %(epoch + 1 , num_epoch , i+1 , len(train_ds)//batch_size , loss.data))"
      ],
      "execution_count": null,
      "outputs": []
    },
    {
      "cell_type": "code",
      "metadata": {
        "id": "BsQexnFgYT-c",
        "colab_type": "code",
        "colab": {}
      },
      "source": [
        "plt.figure(figsize=(12, 7))\n",
        "plt.plot(losses)\n",
        "plt.xlabel('Iteration')\n",
        "plt.ylabel('loss')\n",
        "plt.title('Cross Entropy Loss')\n",
        "plt.show()"
      ],
      "execution_count": null,
      "outputs": []
    },
    {
      "cell_type": "code",
      "metadata": {
        "id": "lUVOwmH0p48p",
        "colab_type": "code",
        "colab": {}
      },
      "source": [
        "def evaluate_model(model, dataloader):\n",
        "    model.eval()  # for batch normalization layers\n",
        "    corrects = 0\n",
        "    with torch.no_grad():\n",
        "      for inputs, targets in dataloader:\n",
        "        #inputs, targets = to_var(inputs, True), to_var(targets, True)\n",
        "        if use_gpu:\n",
        "          inputs = inputs.cuda()\n",
        "          targets = targets.cuda()\n",
        "\n",
        "        outputs = model(inputs)\n",
        "        _, preds = torch.max(outputs.data, 1)\n",
        "        corrects += (preds == targets.data).sum()\n",
        "    \n",
        "    print('accuracy: {:.2f}'.format(100. * corrects / len(dataloader.dataset)))"
      ],
      "execution_count": 20,
      "outputs": []
    },
    {
      "cell_type": "code",
      "metadata": {
        "id": "82kixRwR1KPF",
        "colab_type": "code",
        "colab": {
          "base_uri": "https://localhost:8080/",
          "height": 34
        },
        "outputId": "78c53d1c-4371-4712-a6df-ecfebdb1b6a2"
      },
      "source": [
        "evaluate_model(pretrained_model, test_dl)"
      ],
      "execution_count": 26,
      "outputs": [
        {
          "output_type": "stream",
          "text": [
            "accuracy: 95.82\n"
          ],
          "name": "stdout"
        }
      ]
    }
  ]
}